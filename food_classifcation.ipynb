{
  "nbformat": 4,
  "nbformat_minor": 0,
  "metadata": {
    "colab": {
      "name": "food_classifcation.ipynb",
      "provenance": [],
      "collapsed_sections": [],
      "include_colab_link": true
    },
    "kernelspec": {
      "name": "python3",
      "display_name": "Python 3"
    },
    "language_info": {
      "name": "python"
    },
    "accelerator": "GPU"
  },
  "cells": [
    {
      "cell_type": "markdown",
      "metadata": {
        "id": "view-in-github",
        "colab_type": "text"
      },
      "source": [
        "<a href=\"https://colab.research.google.com/github/freyaldi/ML/blob/main/food_classifcation.ipynb\" target=\"_parent\"><img src=\"https://colab.research.google.com/assets/colab-badge.svg\" alt=\"Open In Colab\"/></a>"
      ]
    },
    {
      "cell_type": "markdown",
      "source": [
        "# Roadmap\n",
        "1. Convolution Layer\n",
        "2. Max Pooling\n",
        "3. 1 Hidden Layer Consist of 100 Neurons ReLu\n",
        "4. Output Layer 2 Neurons, Softmax activiton function\n",
        "\n"
      ],
      "metadata": {
        "id": "LkCQL-d0mds-"
      }
    },
    {
      "cell_type": "markdown",
      "source": [
        "## Import Required Libraries"
      ],
      "metadata": {
        "id": "cg4FArXTqdj-"
      }
    },
    {
      "cell_type": "code",
      "source": [
        "import tensorflow as tf\n",
        "import matplotlib.pyplot as plt\n",
        "import pathlib\n",
        "from tensorflow.keras.preprocessing.image import ImageDataGenerator"
      ],
      "metadata": {
        "id": "ieO44V57NTQC"
      },
      "execution_count": 3,
      "outputs": []
    },
    {
      "cell_type": "markdown",
      "source": [
        "##Download The Inception V3 Weights"
      ],
      "metadata": {
        "id": "NXgZDYJLd5TO"
      }
    },
    {
      "cell_type": "code",
      "source": [
        "!wget --no-check-certificate \\\n",
        "    https://storage.googleapis.com/mledu-datasets/inception_v3_weights_tf_dim_ordering_tf_kernels_notop.h5 \\\n",
        "    -O /tmp/inception_v3_weights_tf_dim_ordering_tf_kernels_notop.h5"
      ],
      "metadata": {
        "id": "gssqNHTsd_DD",
        "colab": {
          "base_uri": "https://localhost:8080/"
        },
        "outputId": "9ea9c8fa-2275-4b7b-9da1-99bac26905dd"
      },
      "execution_count": null,
      "outputs": [
        {
          "output_type": "stream",
          "name": "stdout",
          "text": [
            "--2022-06-03 16:07:24--  https://storage.googleapis.com/mledu-datasets/inception_v3_weights_tf_dim_ordering_tf_kernels_notop.h5\n",
            "Resolving storage.googleapis.com (storage.googleapis.com)... 172.253.62.128, 172.253.115.128, 172.253.122.128, ...\n",
            "Connecting to storage.googleapis.com (storage.googleapis.com)|172.253.62.128|:443... connected.\n",
            "HTTP request sent, awaiting response... 200 OK\n",
            "Length: 87910968 (84M) [application/x-hdf]\n",
            "Saving to: ‘/tmp/inception_v3_weights_tf_dim_ordering_tf_kernels_notop.h5’\n",
            "\n",
            "/tmp/inception_v3_w 100%[===================>]  83.84M   375MB/s    in 0.2s    \n",
            "\n",
            "2022-06-03 16:07:24 (375 MB/s) - ‘/tmp/inception_v3_weights_tf_dim_ordering_tf_kernels_notop.h5’ saved [87910968/87910968]\n",
            "\n"
          ]
        }
      ]
    },
    {
      "cell_type": "code",
      "source": [
        "# Import the inception model  \n",
        "from tensorflow.keras.applications.inception_v3 import InceptionV3\n",
        "\n",
        "# Create an instance of the inception model from the local pre-trained weights\n",
        "local_weights_file = '/tmp/inception_v3_weights_tf_dim_ordering_tf_kernels_notop.h5'"
      ],
      "metadata": {
        "id": "APJCGBRVeeB8"
      },
      "execution_count": null,
      "outputs": []
    },
    {
      "cell_type": "markdown",
      "source": [
        "##Pre-trained Model Function"
      ],
      "metadata": {
        "id": "TYfKEIIme35w"
      }
    },
    {
      "cell_type": "code",
      "source": [
        "def create_pre_trained_model(local_weights_file):\n",
        "\n",
        "  pre_trained_model = InceptionV3(input_shape = (128, 128, 3),\n",
        "                                  include_top = False, \n",
        "                                  weights = None) \n",
        "\n",
        "  pre_trained_model.load_weights(local_weights_file)\n",
        "\n",
        "  # Make all the layers in the pre-trained model non-trainable\n",
        "  for layer in pre_trained_model.layers:\n",
        "    layer.trainable = False\n",
        "\n",
        "  return pre_trained_model"
      ],
      "metadata": {
        "id": "KNx-IIzFefYh"
      },
      "execution_count": null,
      "outputs": []
    },
    {
      "cell_type": "code",
      "source": [
        "pre_trained_model = create_pre_trained_model(local_weights_file)\n",
        "\n",
        "#pre_trained_model.summary()"
      ],
      "metadata": {
        "id": "f8sX7bqqe-W0"
      },
      "execution_count": null,
      "outputs": []
    },
    {
      "cell_type": "markdown",
      "source": [
        "##Pipelining the pre-trained model with our own layers architecture"
      ],
      "metadata": {
        "id": "dJh-ZDHvfP6I"
      }
    },
    {
      "cell_type": "code",
      "source": [
        "# GRADED FUNCTION: output_of_last_layer\n",
        "def output_of_last_layer(pre_trained_model):\n",
        "\n",
        "  last_desired_layer = pre_trained_model.get_layer('mixed7')\n",
        "  print('last layer output shape: ', last_desired_layer.output_shape)\n",
        "  last_output = last_desired_layer.output\n",
        "  print('last layer output: ', last_output)\n",
        "\n",
        "  return last_output"
      ],
      "metadata": {
        "id": "dJOJXsIlfPPD"
      },
      "execution_count": null,
      "outputs": []
    },
    {
      "cell_type": "code",
      "source": [
        "last_output = output_of_last_layer(pre_trained_model)"
      ],
      "metadata": {
        "id": "Axyq2Larfmpa",
        "colab": {
          "base_uri": "https://localhost:8080/"
        },
        "outputId": "6c530185-d68b-4c04-e0d5-82fe71cd29f2"
      },
      "execution_count": null,
      "outputs": [
        {
          "output_type": "stream",
          "name": "stdout",
          "text": [
            "last layer output shape:  (None, 6, 6, 768)\n",
            "last layer output:  KerasTensor(type_spec=TensorSpec(shape=(None, 6, 6, 768), dtype=tf.float32, name=None), name='mixed7/concat:0', description=\"created by layer 'mixed7'\")\n"
          ]
        }
      ]
    },
    {
      "cell_type": "markdown",
      "source": [
        "## Final Food Classification Model"
      ],
      "metadata": {
        "id": "OIjZaKp2fwVq"
      }
    },
    {
      "cell_type": "code",
      "source": [
        "def create_final_model(pre_trained_model, last_output):\n",
        "  \n",
        "  # Flatten the output layer to 1 dimension\n",
        "  # x = layers.Flatten()(last_output)\n",
        "  # x = layers.Dense(1024, activation='relu')(x)\n",
        "  # x = layers.Dropout(0.2)(x)\n",
        "  # x = layers.Dense(1, activation='sigmoid')(x)\n",
        "\n",
        "  # x = tf.keras.layers.Conv2D(24, 7, activation='relu')(last_output)\n",
        "  # x = tf.keras.layers.MaxPool2D(pool_size=(2, 2))(x)\n",
        "  # x = tf.keras.layers.Conv2D(48, 5, activation='relu')(x)\n",
        "  # x = tf.keras.layers.MaxPool2D(pool_size=(2,2))(x)\n",
        "  # x = tf.keras.layers.Conv2D(72, 3, activation='relu')(x)\n",
        "  # x = tf.keras.layers.MaxPool2D(pool_size=(2,2))(x)\n",
        "  # x = tf.keras.layers.Dropout(0.25)(x)\n",
        "  x = tf.keras.layers.Flatten()(last_output)\n",
        "  x = tf.keras.layers.Dense(512, activation='relu')(x)\n",
        "  x = tf.keras.layers.Dropout(0.5)(x)\n",
        "  x = tf.keras.layers.Dense(9, activation='softmax')(x)\n",
        "\n",
        "  # Create the complete model by using the Model class\n",
        "  model = tf.keras.Model(inputs=pre_trained_model.input, outputs=x)\n",
        "\n",
        "  # Compile the model\n",
        "  model.compile(optimizer='RMSProp', \n",
        "                loss='categorical_crossentropy', \n",
        "                metrics=['accuracy'])\n",
        "  \n",
        "  return model"
      ],
      "metadata": {
        "id": "SWhJeuQ_fq1d"
      },
      "execution_count": null,
      "outputs": []
    },
    {
      "cell_type": "markdown",
      "source": [
        "## Image Data Generator"
      ],
      "metadata": {
        "id": "tAIezeHgnDCz"
      }
    },
    {
      "cell_type": "code",
      "source": [
        "def generators(TRAIN_DIR, VAL_DIR):\n",
        "\n",
        "  train_datagen = ImageDataGenerator(rescale=1./255,\n",
        "                                     rotation_range=40,\n",
        "                                     width_shift_range=0.2,\n",
        "                                     height_shift_range=0.2,\n",
        "                                     shear_range=0.2,\n",
        "                                     zoom_range=0.2,\n",
        "                                     horizontal_flip=True,\n",
        "                                     fill_mode='nearest')\n",
        "  \n",
        "  val_datagen = ImageDataGenerator(rescale=1./255)\n",
        "\n",
        "  ##rotation range until fill_mode values were still placeholder\n",
        "\n",
        "  train_generator = train_datagen.flow_from_directory(directory=TRAIN_DIR,\n",
        "                                                      batch_size=100,\n",
        "                                                      class_mode='categorical',\n",
        "                                                      target_size=(128, 128))\n",
        "  \n",
        "  val_generator = val_datagen.flow_from_directory(directory=VAL_DIR,\n",
        "                                                  batch_size=100,\n",
        "                                                  class_mode='categorical',\n",
        "                                                  target_size=(128, 128))\n",
        "  \n",
        "  return train_generator, val_generator"
      ],
      "metadata": {
        "id": "Ro-QkDrfnjGQ"
      },
      "execution_count": null,
      "outputs": []
    },
    {
      "cell_type": "code",
      "source": [
        "TRAIN_DIR='/content/drive/MyDrive/C22-PS335: Capstone Project/DATASET/STRUCTURED/RATIO : 0.8/TRAINING'\n",
        "VAL_DIR='/content/drive/MyDrive/C22-PS335: Capstone Project/DATASET/STRUCTURED/RATIO : 0.8/VALIDATION'\n",
        "\n",
        "# Test the generators\n",
        "train_generator, val_generator = generators(TRAIN_DIR, VAL_DIR)"
      ],
      "metadata": {
        "id": "zrBGRs4KqJ9U",
        "colab": {
          "base_uri": "https://localhost:8080/"
        },
        "outputId": "a7ad374e-61f0-4a01-ddb3-31d09a35239b"
      },
      "execution_count": null,
      "outputs": [
        {
          "output_type": "stream",
          "name": "stdout",
          "text": [
            "Found 9622 images belonging to 9 classes.\n",
            "Found 2396 images belonging to 9 classes.\n"
          ]
        }
      ]
    },
    {
      "cell_type": "markdown",
      "source": [
        "## Train Model"
      ],
      "metadata": {
        "id": "GGOMfzfBKqRh"
      }
    },
    {
      "cell_type": "code",
      "source": [
        "model = create_final_model(pre_trained_model, last_output)\n",
        "history = model.fit(train_generator, epochs=25, verbose=1, validation_data=val_generator)"
      ],
      "metadata": {
        "id": "CuoLGTpYKoO3",
        "colab": {
          "base_uri": "https://localhost:8080/"
        },
        "outputId": "72f70475-65cf-4a9f-cdc0-44a05f4c6262"
      },
      "execution_count": null,
      "outputs": [
        {
          "output_type": "stream",
          "name": "stdout",
          "text": [
            "Epoch 1/25\n",
            "97/97 [==============================] - 2613s 27s/step - loss: 2.2987 - accuracy: 0.5207 - val_loss: 0.7032 - val_accuracy: 0.7629\n",
            "Epoch 2/25\n",
            "97/97 [==============================] - 219s 2s/step - loss: 1.0301 - accuracy: 0.6594 - val_loss: 0.6648 - val_accuracy: 0.7775\n",
            "Epoch 3/25\n",
            "97/97 [==============================] - 208s 2s/step - loss: 0.9066 - accuracy: 0.7018 - val_loss: 0.5560 - val_accuracy: 0.8030\n",
            "Epoch 4/25\n",
            "97/97 [==============================] - 206s 2s/step - loss: 0.8421 - accuracy: 0.7222 - val_loss: 0.6062 - val_accuracy: 0.7992\n",
            "Epoch 5/25\n",
            "97/97 [==============================] - 210s 2s/step - loss: 0.8294 - accuracy: 0.7289 - val_loss: 0.5239 - val_accuracy: 0.8326\n",
            "Epoch 6/25\n",
            "97/97 [==============================] - 206s 2s/step - loss: 0.8044 - accuracy: 0.7413 - val_loss: 0.4834 - val_accuracy: 0.8402\n",
            "Epoch 7/25\n",
            "97/97 [==============================] - 206s 2s/step - loss: 0.7844 - accuracy: 0.7445 - val_loss: 0.5029 - val_accuracy: 0.8306\n",
            "Epoch 8/25\n",
            "97/97 [==============================] - 206s 2s/step - loss: 0.7476 - accuracy: 0.7575 - val_loss: 0.4629 - val_accuracy: 0.8489\n",
            "Epoch 9/25\n",
            "97/97 [==============================] - 206s 2s/step - loss: 0.7328 - accuracy: 0.7610 - val_loss: 0.4765 - val_accuracy: 0.8456\n",
            "Epoch 10/25\n",
            "97/97 [==============================] - 205s 2s/step - loss: 0.7372 - accuracy: 0.7615 - val_loss: 0.4951 - val_accuracy: 0.8406\n",
            "Epoch 11/25\n",
            "97/97 [==============================] - 207s 2s/step - loss: 0.7253 - accuracy: 0.7681 - val_loss: 0.4582 - val_accuracy: 0.8548\n",
            "Epoch 12/25\n",
            "97/97 [==============================] - 206s 2s/step - loss: 0.7020 - accuracy: 0.7741 - val_loss: 0.4973 - val_accuracy: 0.8439\n",
            "Epoch 13/25\n",
            "97/97 [==============================] - 207s 2s/step - loss: 0.6815 - accuracy: 0.7805 - val_loss: 0.4663 - val_accuracy: 0.8506\n",
            "Epoch 14/25\n",
            "97/97 [==============================] - 207s 2s/step - loss: 0.6821 - accuracy: 0.7827 - val_loss: 0.4979 - val_accuracy: 0.8481\n",
            "Epoch 15/25\n",
            "97/97 [==============================] - 207s 2s/step - loss: 0.6847 - accuracy: 0.7805 - val_loss: 0.4633 - val_accuracy: 0.8518\n",
            "Epoch 16/25\n",
            "97/97 [==============================] - 211s 2s/step - loss: 0.6704 - accuracy: 0.7854 - val_loss: 0.4729 - val_accuracy: 0.8568\n",
            "Epoch 17/25\n",
            "97/97 [==============================] - 208s 2s/step - loss: 0.6668 - accuracy: 0.7871 - val_loss: 0.4586 - val_accuracy: 0.8623\n",
            "Epoch 18/25\n",
            "97/97 [==============================] - 208s 2s/step - loss: 0.6858 - accuracy: 0.7856 - val_loss: 0.4755 - val_accuracy: 0.8556\n",
            "Epoch 19/25\n",
            "97/97 [==============================] - 206s 2s/step - loss: 0.6662 - accuracy: 0.7895 - val_loss: 0.4900 - val_accuracy: 0.8573\n",
            "Epoch 20/25\n",
            "97/97 [==============================] - 206s 2s/step - loss: 0.6525 - accuracy: 0.7977 - val_loss: 0.4978 - val_accuracy: 0.8556\n",
            "Epoch 21/25\n",
            "97/97 [==============================] - 206s 2s/step - loss: 0.6386 - accuracy: 0.8041 - val_loss: 0.4877 - val_accuracy: 0.8531\n",
            "Epoch 22/25\n",
            "97/97 [==============================] - 205s 2s/step - loss: 0.6640 - accuracy: 0.7946 - val_loss: 0.4717 - val_accuracy: 0.8623\n",
            "Epoch 23/25\n",
            "97/97 [==============================] - 206s 2s/step - loss: 0.6437 - accuracy: 0.7994 - val_loss: 0.4835 - val_accuracy: 0.8623\n",
            "Epoch 24/25\n",
            "97/97 [==============================] - 216s 2s/step - loss: 0.6226 - accuracy: 0.8045 - val_loss: 0.4840 - val_accuracy: 0.8639\n",
            "Epoch 25/25\n",
            "97/97 [==============================] - 216s 2s/step - loss: 0.6450 - accuracy: 0.8006 - val_loss: 0.4885 - val_accuracy: 0.8585\n"
          ]
        }
      ]
    },
    {
      "cell_type": "markdown",
      "source": [
        "## Visualization"
      ],
      "metadata": {
        "id": "O0CFR44bL0tD"
      }
    },
    {
      "cell_type": "code",
      "source": [
        "acc = history.history['accuracy']\n",
        "val_acc = history.history['val_accuracy']\n",
        "loss = history.history['loss']\n",
        "val_loss = history.history['val_loss']\n",
        "\n",
        "\n",
        "epochs = range(len(acc))\n",
        "\n",
        "\n",
        "plt.plot(epochs, acc, 'r', 'Training Accuracy')\n",
        "plt.plot(epochs, val_acc, 'b', 'Validation Accuracy')\n",
        "plt.title('Accuracy Comparison')\n",
        "plt.show()\n",
        "print('')\n",
        "\n",
        "\n",
        "plt.plot(epochs, loss, 'r', 'Training Loss')\n",
        "plt.plot(epochs, val_loss, 'b', 'Validation Loss')\n",
        "plt.title('Loss Comparison')\n",
        "plt.show()"
      ],
      "metadata": {
        "id": "53nYBZmaL-Bz",
        "colab": {
          "base_uri": "https://localhost:8080/",
          "height": 562
        },
        "outputId": "4a22ec04-d2ad-4099-bdd7-845f72b72536"
      },
      "execution_count": null,
      "outputs": [
        {
          "output_type": "display_data",
          "data": {
            "text/plain": [
              "<Figure size 432x288 with 1 Axes>"
            ],
            "image/png": "[encoded data removed]"
          },
          "metadata": {
            "needs_background": "light"
          }
        },
        {
          "output_type": "stream",
          "name": "stdout",
          "text": [
            "\n"
          ]
        },
        {
          "output_type": "display_data",
          "data": {
            "text/plain": [
              "<Figure size 432x288 with 1 Axes>"
            ],
            "image/png": "[encoded data removed]"
          },
          "metadata": {
            "needs_background": "light"
          }
        }
      ]
    },
    {
      "cell_type": "markdown",
      "source": [
        ""
      ],
      "metadata": {
        "id": "qXqdUwvCSqkg"
      }
    },
    {
      "cell_type": "markdown",
      "source": [
        "## Load the Model"
      ],
      "metadata": {
        "id": "c-_F83tfudLr"
      }
    },
    {
      "cell_type": "code",
      "source": [
        ""
      ],
      "metadata": {
        "id": "1Rl1oxFpuYTG"
      },
      "execution_count": null,
      "outputs": []
    },
    {
      "cell_type": "markdown",
      "source": [
        "## Convert the Model"
      ],
      "metadata": {
        "id": "7HCVzyMNvZEg"
      }
    },
    {
      "cell_type": "code",
      "source": [
        ""
      ],
      "metadata": {
        "id": "V3cY7yNu4git"
      },
      "execution_count": null,
      "outputs": []
    },
    {
      "cell_type": "markdown",
      "source": [
        "## Missing Part\n",
        "\n",
        "- Image Pre-processing process.\n",
        "- Train operation"
      ],
      "metadata": {
        "id": "uIJfNDFdLV2X"
      }
    },
    {
      "cell_type": "code",
      "source": [
        "model.save('./my_model')\n",
        "model.save_weights('./my_weights')\n",
        "\n",
        "model.save('/content/drive/MyDrive/C22-PS335: Capstone Project/DATASET/my_model')\n",
        "model.save_weights('/content/drive/MyDrive/C22-PS335: Capstone Project/DATASET/my_weights')"
      ],
      "metadata": {
        "colab": {
          "base_uri": "https://localhost:8080/"
        },
        "id": "o8VaOgu3w049",
        "outputId": "9ead66b3-8850-4e4d-ded4-040058d49b64"
      },
      "execution_count": null,
      "outputs": [
        {
          "output_type": "stream",
          "name": "stdout",
          "text": [
            "INFO:tensorflow:Assets written to: ./my_model/assets\n",
            "INFO:tensorflow:Assets written to: /content/drive/MyDrive/C22-PS335: Capstone Project/DATASET/my_model/assets\n"
          ]
        }
      ]
    },
    {
      "cell_type": "markdown",
      "source": [
        "## Convert Saved Model to TF-Lite"
      ],
      "metadata": {
        "id": "O_3tQNaapBAV"
      }
    },
    {
      "cell_type": "code",
      "source": [
        "# Select mode of optimization\n",
        "mode = \"balanced\" \n",
        "\n",
        "if mode == 'Storage':\n",
        "    optimization = tf.lite.Optimize.OPTIMIZE_FOR_SIZE\n",
        "elif mode == 'Speed':\n",
        "    optimization = tf.lite.Optimize.OPTIMIZE_FOR_LATENCY\n",
        "else:\n",
        "    optimization = tf.lite.Optimize.DEFAULT"
      ],
      "metadata": {
        "id": "cmx6aazypHbP"
      },
      "execution_count": 6,
      "outputs": []
    },
    {
      "cell_type": "code",
      "source": [
        "# EXERCISE: Use the TFLiteConverter SavedModel API to initialize the converter\n",
        "export_dir = '/content/drive/MyDrive/Capstone Project/my_model'\n",
        "converter = tf.lite.TFLiteConverter.from_saved_model(export_dir)\n",
        "\n",
        "# Set the optimzations\n",
        "converter.optimizations = [optimization]\n",
        "\n",
        "# Invoke the converter to finally generate the TFLite model\n",
        "tflite_model = converter.convert()"
      ],
      "metadata": {
        "colab": {
          "base_uri": "https://localhost:8080/"
        },
        "id": "VaHWOeBVtCyJ",
        "outputId": "67882102-9fd8-41a7-a933-04482a769a72"
      },
      "execution_count": 7,
      "outputs": [
        {
          "output_type": "stream",
          "name": "stderr",
          "text": [
            "WARNING:absl:Buffer deduplication procedure will be skipped when flatbuffer library is not properly loaded\n"
          ]
        }
      ]
    },
    {
      "cell_type": "code",
      "source": [
        "tflite_model_file = pathlib.Path('/content/drive/MyDrive/Capstone Project/adhaar.tflite')\n",
        "tflite_model_file.write_bytes(tflite_model)"
      ],
      "metadata": {
        "colab": {
          "base_uri": "https://localhost:8080/"
        },
        "id": "U85c2YmYtMyS",
        "outputId": "8004e8ad-3ed9-439f-870e-1328196dc9d1"
      },
      "execution_count": 9,
      "outputs": [
        {
          "output_type": "execute_result",
          "data": {
            "text/plain": [
              "23379056"
            ]
          },
          "metadata": {},
          "execution_count": 9
        }
      ]
    },
    {
      "cell_type": "markdown",
      "source": [
        "# Food Classification Model\n",
        "\n",
        "Below is the code written to build the baseline version of the food classification model. \n",
        "The model is desgined to fulfill the minimum criteria of the model by implementing minimum configuration. The model then expected to represent the possible accuracy of the model with the estimated available dataset."
      ],
      "metadata": {
        "id": "F1ep0-uRGmQo"
      }
    },
    {
      "cell_type": "code",
      "source": [
        "def model():\n",
        "  # The input is assumed to be 128x128 RGB Image\n",
        "  model = tf.keras.models.Sequential(\n",
        "      [tf.keras.layers.Conv2D(24, 7, activation='relu', input_shape=(128,128,3)), \n",
        "       tf.keras.layers.MaxPool2D(pool_size=(2, 2)),\n",
        "       tf.keras.layers.Conv2D(48, 5, activation='relu'),\n",
        "       tf.keras.layers.MaxPool2D(pool_size=(2,2)),\n",
        "       tf.keras.layers.Conv2D(72, 3, activation='relu'),\n",
        "       tf.keras.layers.MaxPool2D(pool_size=(2,2)),\n",
        "       tf.keras.layers.Dropout(0.25),\n",
        "       tf.keras.layers.Flatten(),\n",
        "       tf.keras.layers.Dense(128, activation='relu'),\n",
        "       tf.keras.layers.Dropout(0.5),\n",
        "       tf.keras.layers.Dense(4, activation='softmax')]) # The output label is configured to be 10\n",
        "\n",
        "  model.compile(optimizer='adam', \n",
        "                loss='categorical_crossentropy', \n",
        "                metrics=['accuracy'])\n",
        "\n",
        "  return model"
      ],
      "metadata": {
        "id": "iaa16fKfm2m4"
      },
      "execution_count": null,
      "outputs": []
    }
  ]
}