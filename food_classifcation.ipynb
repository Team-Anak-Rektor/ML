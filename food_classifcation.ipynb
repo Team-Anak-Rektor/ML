{
  "nbformat": 4,
  "nbformat_minor": 0,
  "metadata": {
    "colab": {
      "name": "food_classifcation.ipynb",
      "provenance": [],
      "collapsed_sections": [],
      "include_colab_link": true
    },
    "kernelspec": {
      "name": "python3",
      "display_name": "Python 3"
    },
    "language_info": {
      "name": "python"
    }
  },
  "cells": [
    {
      "cell_type": "markdown",
      "metadata": {
        "id": "view-in-github",
        "colab_type": "text"
      },
      "source": [
        "<a href=\"https://colab.research.google.com/github/raihanalmenata/ML/blob/main/food_classifcation.ipynb\" target=\"_parent\"><img src=\"https://colab.research.google.com/assets/colab-badge.svg\" alt=\"Open In Colab\"/></a>"
      ]
    },
    {
      "cell_type": "markdown",
      "source": [
        "# Roadmap\n",
        "1. Convolution Layer\n",
        "2. Max Pooling\n",
        "3. 1 Hidden Layer Consist of 100 Neurons ReLu\n",
        "4. Output Layer 2 Neurons, Softmax activiton function\n",
        "\n"
      ],
      "metadata": {
        "id": "LkCQL-d0mds-"
      }
    },
    {
      "cell_type": "markdown",
      "source": [
        "# Food Classification Model\n",
        "\n",
        "Below is the code written to build the baseline version of the food classification model. \n",
        "The model is desgined to fulfill the minimum criteria of the model by implementing minimum configuration. The model then expected to represent the possible accuracy of the model with the estimated available dataset."
      ],
      "metadata": {
        "id": "F1ep0-uRGmQo"
      }
    },
    {
      "cell_type": "code",
      "source": [
        "import tensorflow as tf\n",
        "\n",
        "def model():\n",
        "  # The input is assumed to be 150x150 RGB Image\n",
        "  model = tf.keras.models.Sequential([tf.keras.layers.Conv2D(32, 3, activation='relu', input_shape=(150,150,3)), \n",
        "    tf.keras.layers.MaxPool2D(pool_size=(2, 2)),\n",
        "    tf.keras.layers.Flatten(),\n",
        "    tf.keras.layers.Dense(100, activation='relu'),\n",
        "    tf.keras.layers.Dense(3, activation='softmax')]) # The output label is configured to be 3\n",
        "\n",
        "  model.compile(optimizer='sgd', \n",
        "                loss='sparse_categorical_crossentropy', \n",
        "                metrics=['accuracy'])\n",
        "\n",
        "  return model"
      ],
      "metadata": {
        "id": "iaa16fKfm2m4"
      },
      "execution_count": null,
      "outputs": []
    },
    {
      "cell_type": "markdown",
      "source": [
        "## Missing Part\n",
        "\n",
        "- Image Pre-processing process.\n",
        "- Train operation "
      ],
      "metadata": {
        "id": "uIJfNDFdLV2X"
      }
    }
  ]
}