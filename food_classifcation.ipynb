{
  "nbformat": 4,
  "nbformat_minor": 0,
  "metadata": {
    "colab": {
      "name": "food_classifcation.ipynb",
      "provenance": [],
      "collapsed_sections": [],
      "include_colab_link": true
    },
    "kernelspec": {
      "name": "python3",
      "display_name": "Python 3"
    },
    "language_info": {
      "name": "python"
    }
  },
  "cells": [
    {
      "cell_type": "markdown",
      "metadata": {
        "id": "view-in-github",
        "colab_type": "text"
      },
      "source": [
        "<a href=\"https://colab.research.google.com/github/raihanalmenata/ML/blob/main/food_classifcation.ipynb\" target=\"_parent\"><img src=\"https://colab.research.google.com/assets/colab-badge.svg\" alt=\"Open In Colab\"/></a>"
      ]
    },
    {
      "cell_type": "markdown",
      "source": [
        "# Roadmap\n",
        "1. Convolution Layer\n",
        "2. Max Pooling\n",
        "3. 1 Hidden Layer Consist of 100 Neurons ReLu\n",
        "4. Output Layer 2 Neurons, Softmax activiton function\n",
        "\n"
      ],
      "metadata": {
        "id": "LkCQL-d0mds-"
      }
    },
    {
      "cell_type": "markdown",
      "source": [
        "## Import Required Libraries"
      ],
      "metadata": {
        "id": "cg4FArXTqdj-"
      }
    },
    {
      "cell_type": "code",
      "source": [
        "import tensorflow as tf\n",
        "import matplotlib.pyplot as plt\n",
        "from tensorflow.keras.preprocessing.image import ImageDataGenerator"
      ],
      "metadata": {
        "id": "ieO44V57NTQC"
      },
      "execution_count": 1,
      "outputs": []
    },
    {
      "cell_type": "code",
      "source": [
        "from google.colab import drive\n",
        "drive.mount('/content/drive')"
      ],
      "metadata": {
        "colab": {
          "base_uri": "https://localhost:8080/"
        },
        "id": "fdfNintpGosy",
        "outputId": "971d416f-6091-4520-9d90-b3c9d548a3d8"
      },
      "execution_count": 2,
      "outputs": [
        {
          "output_type": "stream",
          "name": "stdout",
          "text": [
            "Drive already mounted at /content/drive; to attempt to forcibly remount, call drive.mount(\"/content/drive\", force_remount=True).\n"
          ]
        }
      ]
    },
    {
      "cell_type": "markdown",
      "source": [
        "## Image Data Generator"
      ],
      "metadata": {
        "id": "tAIezeHgnDCz"
      }
    },
    {
      "cell_type": "code",
      "source": [
        "def generators(TRAIN_DIR, VAL_DIR):\n",
        "\n",
        "  train_datagen = ImageDataGenerator(rescale=1./255,\n",
        "                                     rotation_range=40,\n",
        "                                     width_shift_range=0.2,\n",
        "                                     height_shift_range=0.2,\n",
        "                                     shear_range=0.2,\n",
        "                                     zoom_range=0.2,\n",
        "                                     horizontal_flip=True,\n",
        "                                     fill_mode='nearest')\n",
        "  \n",
        "  val_datagen = ImageDataGenerator(rescale=1./255)\n",
        "\n",
        "  ##rotation range until fill_mode values were still placeholder\n",
        "\n",
        "  train_generator = train_datagen.flow_from_directory(directory=TRAIN_DIR,\n",
        "                                                      batch_size=100,\n",
        "                                                      class_mode='categorical',\n",
        "                                                      target_size=(128, 128))\n",
        "  \n",
        "  val_generator = val_datagen.flow_from_directory(directory=VAL_DIR,\n",
        "                                                  batch_size=100,\n",
        "                                                  class_mode='categorical',\n",
        "                                                  target_size=(128, 128))\n",
        "  \n",
        "  return train_generator, val_generator"
      ],
      "metadata": {
        "id": "Ro-QkDrfnjGQ"
      },
      "execution_count": 3,
      "outputs": []
    },
    {
      "cell_type": "code",
      "source": [
        "TRAIN_DIR='/content/drive/MyDrive/C22-PS335: Capstone Project/DATASET/TRAIN'\n",
        "VAL_DIR='/content/drive/MyDrive/C22-PS335: Capstone Project/DATASET/VALIDATION'\n",
        "\n",
        "# Test the generators\n",
        "train_generator, val_generator = generators(TRAIN_DIR, VAL_DIR)"
      ],
      "metadata": {
        "id": "zrBGRs4KqJ9U",
        "colab": {
          "base_uri": "https://localhost:8080/"
        },
        "outputId": "13715b46-ae57-49e6-88fe-d6f6973a3e6f"
      },
      "execution_count": 4,
      "outputs": [
        {
          "output_type": "stream",
          "name": "stdout",
          "text": [
            "Found 1053 images belonging to 4 classes.\n",
            "Found 451 images belonging to 4 classes.\n"
          ]
        }
      ]
    },
    {
      "cell_type": "markdown",
      "source": [
        "# Food Classification Model\n",
        "\n",
        "Below is the code written to build the baseline version of the food classification model. \n",
        "The model is desgined to fulfill the minimum criteria of the model by implementing minimum configuration. The model then expected to represent the possible accuracy of the model with the estimated available dataset."
      ],
      "metadata": {
        "id": "F1ep0-uRGmQo"
      }
    },
    {
      "cell_type": "code",
      "source": [
        "def model():\n",
        "  # The input is assumed to be 150x150 RGB Image\n",
        "  model = tf.keras.models.Sequential(\n",
        "      [tf.keras.layers.Conv2D(24, 7, activation='relu', input_shape=(128,128,3)), \n",
        "       tf.keras.layers.MaxPool2D(pool_size=(2, 2)),\n",
        "       tf.keras.layers.Conv2D(48, 5, activation='relu'),\n",
        "       tf.keras.layers.MaxPool2D(pool_size=(2,2)),\n",
        "       tf.keras.layers.Conv2D(72, 3, activation='relu'),\n",
        "       tf.keras.layers.MaxPool2D(pool_size=(2,2)),\n",
        "       tf.keras.layers.Dropout(0.25),\n",
        "       tf.keras.layers.Flatten(),\n",
        "       tf.keras.layers.Dense(128, activation='relu'),\n",
        "       tf.keras.layers.Dropout(0.5),\n",
        "       tf.keras.layers.Dense(4, activation='softmax')]) # The output label is configured to be 10\n",
        "\n",
        "  model.compile(optimizer='adam', \n",
        "                loss='categorical_crossentropy', \n",
        "                metrics=['accuracy'])\n",
        "\n",
        "  return model"
      ],
      "metadata": {
        "id": "iaa16fKfm2m4"
      },
      "execution_count": 5,
      "outputs": []
    },
    {
      "cell_type": "markdown",
      "source": [
        "## Train Model"
      ],
      "metadata": {
        "id": "GGOMfzfBKqRh"
      }
    },
    {
      "cell_type": "code",
      "source": [
        "model = model()\n",
        "history = model.fit(train_generator, epochs=10, verbose=1, validation_data=val_generator)"
      ],
      "metadata": {
        "id": "CuoLGTpYKoO3",
        "colab": {
          "base_uri": "https://localhost:8080/"
        },
        "outputId": "0bee4a0b-1437-4e47-a584-b8239e99af21"
      },
      "execution_count": 6,
      "outputs": [
        {
          "output_type": "stream",
          "name": "stdout",
          "text": [
            "Epoch 1/10\n",
            "11/11 [==============================] - 305s 30s/step - loss: 1.3555 - accuracy: 0.3362 - val_loss: 1.2940 - val_accuracy: 0.3592\n",
            "Epoch 2/10\n",
            "11/11 [==============================] - 67s 6s/step - loss: 1.2176 - accuracy: 0.4340 - val_loss: 1.1392 - val_accuracy: 0.5100\n",
            "Epoch 3/10\n",
            "11/11 [==============================] - 67s 6s/step - loss: 1.1387 - accuracy: 0.5233 - val_loss: 1.0203 - val_accuracy: 0.6009\n",
            "Epoch 4/10\n",
            "11/11 [==============================] - 66s 6s/step - loss: 1.1154 - accuracy: 0.5432 - val_loss: 1.0675 - val_accuracy: 0.5721\n",
            "Epoch 5/10\n",
            "11/11 [==============================] - 66s 6s/step - loss: 1.0381 - accuracy: 0.5774 - val_loss: 1.2273 - val_accuracy: 0.5322\n",
            "Epoch 6/10\n",
            "11/11 [==============================] - 62s 6s/step - loss: 0.9861 - accuracy: 0.5973 - val_loss: 1.0936 - val_accuracy: 0.5632\n",
            "Epoch 7/10\n",
            "11/11 [==============================] - 63s 6s/step - loss: 1.0146 - accuracy: 0.5897 - val_loss: 1.1363 - val_accuracy: 0.5809\n",
            "Epoch 8/10\n",
            "11/11 [==============================] - 63s 6s/step - loss: 1.0526 - accuracy: 0.5670 - val_loss: 0.9742 - val_accuracy: 0.5588\n",
            "Epoch 9/10\n",
            "11/11 [==============================] - 63s 6s/step - loss: 1.0345 - accuracy: 0.5717 - val_loss: 1.0278 - val_accuracy: 0.5920\n",
            "Epoch 10/10\n",
            "11/11 [==============================] - 64s 6s/step - loss: 0.9933 - accuracy: 0.6040 - val_loss: 1.2407 - val_accuracy: 0.5144\n"
          ]
        }
      ]
    },
    {
      "cell_type": "markdown",
      "source": [
        "## Visualization"
      ],
      "metadata": {
        "id": "O0CFR44bL0tD"
      }
    },
    {
      "cell_type": "code",
      "source": [
        "acc = history.history['accuracy']\n",
        "val_acc = history.history['val_accuracy']\n",
        "loss = history.history['loss']\n",
        "val_loss = history.history['val_loss']\n",
        "\n",
        "\n",
        "epochs = range(len(acc))\n",
        "\n",
        "\n",
        "plt.plot(epochs, acc, 'r', 'Training Accuracy')\n",
        "plt.plot(epochs, val_acc, 'b', 'Validation Accuracy')\n",
        "plt.title('Accuracy Comparison')\n",
        "plt.show()\n",
        "print('')\n",
        "\n",
        "\n",
        "plt.plot(epochs, loss, 'r', 'Training Loss')\n",
        "plt.plot(epochs, val_loss, 'b', 'Validation Loss')\n",
        "plt.title('Loss Comparison')\n",
        "plt.show()"
      ],
      "metadata": {
        "id": "53nYBZmaL-Bz",
        "colab": {
          "base_uri": "https://localhost:8080/",
          "height": 562
        },
        "outputId": "5be60e31-89af-4b34-f3c7-2ce78ebad212"
      },
      "execution_count": 7,
      "outputs": [
        {
          "output_type": "display_data",
          "data": {
            "text/plain": [
              "<Figure size 432x288 with 1 Axes>"
            ],
            "image/png": "[encoded data removed]"
          },
          "metadata": {
            "needs_background": "light"
          }
        },
        {
          "output_type": "stream",
          "name": "stdout",
          "text": [
            "\n"
          ]
        },
        {
          "output_type": "display_data",
          "data": {
            "text/plain": [
              "<Figure size 432x288 with 1 Axes>"
            ],
            "image/png": "[encoded data removed]"
          },
          "metadata": {
            "needs_background": "light"
          }
        }
      ]
    },
    {
      "cell_type": "markdown",
      "source": [
        "## Missing Part\n",
        "\n",
        "- Image Pre-processing process.\n",
        "- Train operation"
      ],
      "metadata": {
        "id": "uIJfNDFdLV2X"
      }
    }
  ]
}